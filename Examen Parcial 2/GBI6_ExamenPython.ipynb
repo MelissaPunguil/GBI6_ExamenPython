{
 "cells": [
  {
   "cell_type": "markdown",
   "id": "fbc00e3c",
   "metadata": {},
   "source": [
    "### <center><h2> INGENIERÍA EN BIOTECNOLOGÍA</h2></center>\n",
    "# <center><h1 style=\"color:red\">GBI6 - BIOINFORMÁTICA</h1></center>\n",
    "\n",
    "<img src=\"https://www.ikiam.edu.ec/img/logo-ikiam-grey.png\" width=300 height=200 />"
   ]
  },
  {
   "cell_type": "markdown",
   "id": "1416c8f3",
   "metadata": {},
   "source": [
    "# EXAMEN PARCIAL PYTHON\n",
    "    \n",
    "\n",
    "## GBI6-2021II: BIOINFORMÁTICA\n",
    "\n",
    "**Punguil Melissa** \n",
    "\n",
    "**05-08-2022**\n",
    "\n",
    "Basado en las sesiones de control de la versión, estructuras de control, funciones y módulos, pandas , matplotlib y Biopython resuelva el EXAMEN - PYTHON. Utilice los archivos: \n",
    "\n",
    "* 2022I_GBI6G01_ExamenPython.ipynb\n",
    "* miningscience_g01.py\n"
   ]
  },
  {
   "cell_type": "markdown",
   "id": "985bb388",
   "metadata": {},
   "source": [
    "## Ejercicio 0 [0.5 puntos]\n",
    "Realice cambios al cuaderno de jupyter: \n",
    "- Agregue el logo de la Universidad\n",
    "- Coloque sus datos personales \n",
    "- Escriba una **tabla** con las características de su computador \n",
    "\n",
    "### Datos personales\n",
    "* Nombre: Melissa Punguil\n",
    "* Edad: 21 \n",
    "* Ciudad: Tena\n",
    "\n",
    "\n",
    "### Características del computador\n",
    "<table>\n",
    "  <tr>\n",
    "    <th>Especificaciones del dispositivo</th>\n",
    "    <th>Descripción</th>\n",
    "  </tr>\n",
    "  <tr>\n",
    "    <td>Nombre del dispositivo</td>\n",
    "    <td>DESKTOP-IAK9CAK</td>\n",
    "  </tr>\n",
    "    <tr>\n",
    "    <td>Procesador</td>\n",
    "    <td>Intel(R) Celeron(R) N4000 CPU @ 1.10GHz   1.10 GHz</td>\n",
    "  </tr>\n",
    "     <tr>\n",
    "    <td>RAM instalada</td>\n",
    "    <td>4,00 GB (3,78 GB usable)</td>\n",
    "  </tr>\n",
    "    <tr>\n",
    "    <td>Identificador de dispositivo</td>\n",
    "    <td>30EEFE89-A3F6-4EA7-885D-6C64A052BF60</td>\n",
    "  </tr>\n",
    "    <tr>\n",
    "    <td>Id. del producto</td>\n",
    "    <td>00329-00000-00003-AA502</td>\n",
    "  </tr>\n",
    "    <tr>\n",
    "    <td>Tipo de sistema</td>\n",
    "    <td>Sistema operativo de 64 bits, procesador basado en x64</td>\n",
    "  </tr>\n",
    "    <tr>\n",
    "    <td>Lápiz y entrada</td>\n",
    "    <td>La entrada táctil o manuscrita no está disponible para esta pantalla</td>\n",
    "  </tr>\n",
    "</table>"
   ]
  },
  {
   "cell_type": "markdown",
   "id": "f27b721d",
   "metadata": {},
   "source": [
    "## Ejercicio 1 [2 puntos]\n",
    "Cree el archivo ```miningscience.py``` con las siguientes dos funciones:\n",
    "    \n",
    "i. ```download_pubmed```: para descargar la data de PubMed utilizando el **ENTREZ** de Biopython. El parámetro de entrada para la función es el ```keyword```. \n",
    "    \n",
    "ii. ```science_plots```: la función debe \n",
    "\n",
    "- utilizar como argumento de entrada la data descargada por ```download_pubmed```\n",
    "- ordenar los conteos de autores por país en orden ascedente y \n",
    "- seleccionar los cinco más abundantes. Con esta selección debe graficar un ```pie_plot```. Como guía para el conteo por países puede usar el ejemplo de [MapOfScience](https://github.com/CSB-book/CSB/blob/master/regex/solutions/MapOfScience_solution.ipynb). \n",
    "\n",
    "iii *Cree un docstring para cada función.* \n",
    "\n",
    "Luego de crear las funciones, cargue el módulo ```miningscience``` como ```msc``` e **imprima docstring de cada función**."
   ]
  },
  {
   "cell_type": "code",
   "execution_count": null,
   "id": "52b1ce4a",
   "metadata": {},
   "outputs": [],
   "source": [
    "import miningscience as msc\n",
    "\n",
    "help (msc.download_pubmed)"
   ]
  },
  {
   "cell_type": "markdown",
   "id": "9dd88505",
   "metadata": {},
   "source": [
    "\n",
    "## Ejercicio 2 [2 puntos]\n",
    "\n",
    "\n",
    "Utilice dos veces la función ```download_pubmed``` para: \n",
    "\n",
    "- Descargar la data, utilizando los keyword de su preferencia. \n",
    "- Guardar el archivo descargado en la carpeta ```data```.\n",
    "\n",
    "Para cada corrida, imprima lo siguiente: \n",
    "\n",
    "```python\n",
    "'El número artículos para KEYWORD es: XX' # Que se cargue con inserción de texto o valor que correspondea KEYWORD y XX\n",
    "```"
   ]
  },
  {
   "cell_type": "code",
   "execution_count": null,
   "id": "3c9b7293",
   "metadata": {},
   "outputs": [],
   "source": [
    "import os\n",
    "import re\n",
    "c = msc.download_pubmed(\"chicungunya\")\n",
    "b = len (c)\n",
    "print ('El número artículos para KEYWORD es: ',b)\n",
    "with open (\"Data/chicungunya.txt\",\"w\") as txt:\n",
    "    txt.write(c)"
   ]
  },
  {
   "cell_type": "code",
   "execution_count": null,
   "id": "e47f6b01",
   "metadata": {},
   "outputs": [],
   "source": [
    "import os\n",
    "import re\n",
    "z = msc.download_pubmed(\"zika\")\n",
    "b = len (z)\n",
    "print ('El número artículos para KEYWORD es: ',b)\n",
    "with open (\"Data/zika.txt\",\"w\") as txt:\n",
    "    txt.write(z)"
   ]
  },
  {
   "cell_type": "markdown",
   "id": "d4be92a5",
   "metadata": {},
   "source": [
    "## Ejercicio 3 [1.5 puntos]\n",
    "\n",
    "Utilice dos veces la función ```science_plots``` para: \n",
    "\n",
    "- Visualizar un pie_plot para cada data descargada en el ejercicio 2.\n",
    "- Guardar los pie_plot en la carpeta ```img```"
   ]
  },
  {
   "cell_type": "code",
   "execution_count": null,
   "id": "bef08276",
   "metadata": {},
   "outputs": [],
   "source": [
    "import matplotlib.pyplot as plt\n",
    "import numpy as np"
   ]
  },
  {
   "cell_type": "code",
   "execution_count": null,
   "id": "72fe2b98",
   "metadata": {},
   "outputs": [],
   "source": [
    "chicungunya = msc.science_plots(c)\n",
    "with open (\"img/chicungunya.png\",\"w\") as png:\n",
    "    chicungunya"
   ]
  },
  {
   "cell_type": "code",
   "execution_count": null,
   "id": "687bc8f4",
   "metadata": {},
   "outputs": [],
   "source": [
    "zika = msc.science_plots(z)\n",
    "with open (\"img/zika.png\",\"w\") as png:\n",
    "    zika"
   ]
  },
  {
   "cell_type": "markdown",
   "id": "2216fb03",
   "metadata": {},
   "source": [
    "## Ejercicio 4 [1 punto]\n",
    "\n",
    "**Interprete** los resultados de las figuras del **ejercicio 3**\n",
    "\n",
    "En ambas graficas en forma de pastel se puede visualizar el porcentaje del vector de la enfermedad en cada país. "
   ]
  },
  {
   "cell_type": "markdown",
   "id": "313a3669",
   "metadata": {},
   "source": [
    "## Ejercicio 5 [2 puntos]\n",
    "\n",
    "Para algún **gen de las enzimas que intervienen en la ruta metabolica de la gluconeogenesis** ([Lista de genes por tipología](https://www.genome.jp/pathway/map00010+C00068)), realice lo siguiente: \n",
    "\n",
    "1. Una búsqueda en la página del [NCBI nucleotide](https://www.ncbi.nlm.nih.gov/nucleotide/).\n",
    "\n",
    "2. Descargue el ```Accession List``` de su búsqueda y guarde en la carpeta ```data```.\n",
    "\n",
    "3. Cargue el ```Accession List``` en este notebook y haga una descarga de las secuencias de los **quince primeros** IDs de la accesión. \n",
    "\n",
    "4. Arme un árbol filogenético para los resultados del paso 3.\n",
    "\n",
    "5. Guarde su arbol filogénetico en la carpeta ```img```\n",
    "\n",
    "5. Interprete el árbol del paso 4. "
   ]
  },
  {
   "cell_type": "code",
   "execution_count": 1,
   "id": "d1faf95a",
   "metadata": {},
   "outputs": [
    {
     "name": "stdout",
     "output_type": "stream",
     "text": [
      "Requirement already satisfied: Biopython in c:\\users\\hp\\anaconda3\\lib\\site-packages (1.79)\n",
      "Requirement already satisfied: numpy in c:\\users\\hp\\anaconda3\\lib\\site-packages (from Biopython) (1.20.3)\n",
      "Note: you may need to restart the kernel to use updated packages.\n"
     ]
    }
   ],
   "source": [
    "pip install Biopython"
   ]
  },
  {
   "cell_type": "code",
   "execution_count": 5,
   "id": "599e1258",
   "metadata": {},
   "outputs": [
    {
     "name": "stdout",
     "output_type": "stream",
     "text": [
      "https://eutils.ncbi.nlm.nih.gov/entrez/eutils/efetch.fcgi?db=nucleotide&rettype=gb&retmode=text&id=NC_056746.1%2CNC_056750.1%2CNC_053390.1%2CLT934114.1%2CLT934113.1%2CNC_058080.1%2CNC_057803.1%2CNC_041386.1%2CNC_008801.1%2CLT934117.1&tool=biopython\n"
     ]
    },
    {
     "ename": "FileNotFoundError",
     "evalue": "[Errno 2] No such file or directory: 'sequence.gb'",
     "output_type": "error",
     "traceback": [
      "\u001b[1;31m---------------------------------------------------------------------------\u001b[0m",
      "\u001b[1;31mFileNotFoundError\u001b[0m                         Traceback (most recent call last)",
      "\u001b[1;32m~\\AppData\\Local\\Temp/ipykernel_11212/3793229341.py\u001b[0m in \u001b[0;36m<module>\u001b[1;34m\u001b[0m\n\u001b[0;32m     15\u001b[0m \u001b[0mhandle\u001b[0m \u001b[1;33m=\u001b[0m \u001b[0mEntrez\u001b[0m\u001b[1;33m.\u001b[0m\u001b[0mefetch\u001b[0m\u001b[1;33m(\u001b[0m \u001b[0mdb\u001b[0m\u001b[1;33m=\u001b[0m\u001b[1;34m\"nucleotide\"\u001b[0m\u001b[1;33m,\u001b[0m \u001b[0mrettype\u001b[0m\u001b[1;33m=\u001b[0m\u001b[1;34m\"gb\"\u001b[0m\u001b[1;33m,\u001b[0m \u001b[0mretmode\u001b[0m\u001b[1;33m=\u001b[0m\u001b[1;34m\"text\"\u001b[0m\u001b[1;33m,\u001b[0m \u001b[0mid\u001b[0m \u001b[1;33m=\u001b[0m \u001b[0mtext\u001b[0m\u001b[1;33m)\u001b[0m\u001b[1;33m\u001b[0m\u001b[1;33m\u001b[0m\u001b[0m\n\u001b[0;32m     16\u001b[0m \u001b[0mprint\u001b[0m\u001b[1;33m(\u001b[0m\u001b[0mhandle\u001b[0m\u001b[1;33m.\u001b[0m\u001b[0murl\u001b[0m\u001b[1;33m)\u001b[0m\u001b[1;33m\u001b[0m\u001b[1;33m\u001b[0m\u001b[0m\n\u001b[1;32m---> 17\u001b[1;33m \u001b[0mrecords\u001b[0m \u001b[1;33m=\u001b[0m \u001b[0mSeqIO\u001b[0m\u001b[1;33m.\u001b[0m\u001b[0mparse\u001b[0m\u001b[1;33m(\u001b[0m\u001b[1;34m\"sequence.gb\"\u001b[0m\u001b[1;33m,\u001b[0m \u001b[1;34m\"genbank\"\u001b[0m\u001b[1;33m)\u001b[0m\u001b[1;33m\u001b[0m\u001b[1;33m\u001b[0m\u001b[0m\n\u001b[0m\u001b[0;32m     18\u001b[0m \u001b[0mcount\u001b[0m \u001b[1;33m=\u001b[0m \u001b[0mSeqIO\u001b[0m\u001b[1;33m.\u001b[0m\u001b[0mwrite\u001b[0m\u001b[1;33m(\u001b[0m\u001b[0mrecords\u001b[0m\u001b[1;33m,\u001b[0m \u001b[1;34m\"sequence.fasta\"\u001b[0m\u001b[1;33m,\u001b[0m \u001b[1;34m\"fasta\"\u001b[0m\u001b[1;33m)\u001b[0m\u001b[1;33m\u001b[0m\u001b[1;33m\u001b[0m\u001b[0m\n\u001b[0;32m     19\u001b[0m \u001b[1;33m\u001b[0m\u001b[0m\n",
      "\u001b[1;32m~\\anaconda3\\lib\\site-packages\\Bio\\SeqIO\\__init__.py\u001b[0m in \u001b[0;36mparse\u001b[1;34m(handle, format, alphabet)\u001b[0m\n\u001b[0;32m    603\u001b[0m     \u001b[0miterator_generator\u001b[0m \u001b[1;33m=\u001b[0m \u001b[0m_FormatToIterator\u001b[0m\u001b[1;33m.\u001b[0m\u001b[0mget\u001b[0m\u001b[1;33m(\u001b[0m\u001b[0mformat\u001b[0m\u001b[1;33m)\u001b[0m\u001b[1;33m\u001b[0m\u001b[1;33m\u001b[0m\u001b[0m\n\u001b[0;32m    604\u001b[0m     \u001b[1;32mif\u001b[0m \u001b[0miterator_generator\u001b[0m\u001b[1;33m:\u001b[0m\u001b[1;33m\u001b[0m\u001b[1;33m\u001b[0m\u001b[0m\n\u001b[1;32m--> 605\u001b[1;33m         \u001b[1;32mreturn\u001b[0m \u001b[0miterator_generator\u001b[0m\u001b[1;33m(\u001b[0m\u001b[0mhandle\u001b[0m\u001b[1;33m)\u001b[0m\u001b[1;33m\u001b[0m\u001b[1;33m\u001b[0m\u001b[0m\n\u001b[0m\u001b[0;32m    606\u001b[0m     \u001b[1;32mif\u001b[0m \u001b[0mformat\u001b[0m \u001b[1;32min\u001b[0m \u001b[0mAlignIO\u001b[0m\u001b[1;33m.\u001b[0m\u001b[0m_FormatToIterator\u001b[0m\u001b[1;33m:\u001b[0m\u001b[1;33m\u001b[0m\u001b[1;33m\u001b[0m\u001b[0m\n\u001b[0;32m    607\u001b[0m         \u001b[1;31m# Use Bio.AlignIO to read in the alignments\u001b[0m\u001b[1;33m\u001b[0m\u001b[1;33m\u001b[0m\u001b[0m\n",
      "\u001b[1;32m~\\anaconda3\\lib\\site-packages\\Bio\\SeqIO\\InsdcIO.py\u001b[0m in \u001b[0;36m__init__\u001b[1;34m(self, source)\u001b[0m\n\u001b[0;32m     96\u001b[0m \u001b[1;33m\u001b[0m\u001b[0m\n\u001b[0;32m     97\u001b[0m         \"\"\"\n\u001b[1;32m---> 98\u001b[1;33m         \u001b[0msuper\u001b[0m\u001b[1;33m(\u001b[0m\u001b[1;33m)\u001b[0m\u001b[1;33m.\u001b[0m\u001b[0m__init__\u001b[0m\u001b[1;33m(\u001b[0m\u001b[0msource\u001b[0m\u001b[1;33m,\u001b[0m \u001b[0mmode\u001b[0m\u001b[1;33m=\u001b[0m\u001b[1;34m\"t\"\u001b[0m\u001b[1;33m,\u001b[0m \u001b[0mfmt\u001b[0m\u001b[1;33m=\u001b[0m\u001b[1;34m\"GenBank\"\u001b[0m\u001b[1;33m)\u001b[0m\u001b[1;33m\u001b[0m\u001b[1;33m\u001b[0m\u001b[0m\n\u001b[0m\u001b[0;32m     99\u001b[0m \u001b[1;33m\u001b[0m\u001b[0m\n\u001b[0;32m    100\u001b[0m     \u001b[1;32mdef\u001b[0m \u001b[0mparse\u001b[0m\u001b[1;33m(\u001b[0m\u001b[0mself\u001b[0m\u001b[1;33m,\u001b[0m \u001b[0mhandle\u001b[0m\u001b[1;33m)\u001b[0m\u001b[1;33m:\u001b[0m\u001b[1;33m\u001b[0m\u001b[1;33m\u001b[0m\u001b[0m\n",
      "\u001b[1;32m~\\anaconda3\\lib\\site-packages\\Bio\\SeqIO\\Interfaces.py\u001b[0m in \u001b[0;36m__init__\u001b[1;34m(self, source, alphabet, mode, fmt)\u001b[0m\n\u001b[0;32m     46\u001b[0m             \u001b[1;32mraise\u001b[0m \u001b[0mValueError\u001b[0m\u001b[1;33m(\u001b[0m\u001b[1;34m\"The alphabet argument is no longer supported\"\u001b[0m\u001b[1;33m)\u001b[0m\u001b[1;33m\u001b[0m\u001b[1;33m\u001b[0m\u001b[0m\n\u001b[0;32m     47\u001b[0m         \u001b[1;32mtry\u001b[0m\u001b[1;33m:\u001b[0m\u001b[1;33m\u001b[0m\u001b[1;33m\u001b[0m\u001b[0m\n\u001b[1;32m---> 48\u001b[1;33m             \u001b[0mself\u001b[0m\u001b[1;33m.\u001b[0m\u001b[0mstream\u001b[0m \u001b[1;33m=\u001b[0m \u001b[0mopen\u001b[0m\u001b[1;33m(\u001b[0m\u001b[0msource\u001b[0m\u001b[1;33m,\u001b[0m \u001b[1;34m\"r\"\u001b[0m \u001b[1;33m+\u001b[0m \u001b[0mmode\u001b[0m\u001b[1;33m)\u001b[0m\u001b[1;33m\u001b[0m\u001b[1;33m\u001b[0m\u001b[0m\n\u001b[0m\u001b[0;32m     49\u001b[0m             \u001b[0mself\u001b[0m\u001b[1;33m.\u001b[0m\u001b[0mshould_close_stream\u001b[0m \u001b[1;33m=\u001b[0m \u001b[1;32mTrue\u001b[0m\u001b[1;33m\u001b[0m\u001b[1;33m\u001b[0m\u001b[0m\n\u001b[0;32m     50\u001b[0m         \u001b[1;32mexcept\u001b[0m \u001b[0mTypeError\u001b[0m\u001b[1;33m:\u001b[0m  \u001b[1;31m# not a path, assume we received a stream\u001b[0m\u001b[1;33m\u001b[0m\u001b[1;33m\u001b[0m\u001b[0m\n",
      "\u001b[1;31mFileNotFoundError\u001b[0m: [Errno 2] No such file or directory: 'sequence.gb'"
     ]
    }
   ],
   "source": [
    "from Bio import Entrez\n",
    "from Bio import Phylo\n",
    "from Bio.Phylo.TreeConstruction import DistanceCalculator\n",
    "from Bio.Phylo.TreeConstruction import DistanceTreeConstructor\n",
    "from Bio import AlignIO\n",
    "from Bio import SeqIO\n",
    "from Bio.Align.Applications import ClustalwCommandline\n",
    "import os\n",
    "\n",
    "with open('../data/sequence.seq') as file:\n",
    "    text = file.read()\n",
    "text = text.split('\\n')\n",
    "text = ','.join(text[:10])\n",
    "\n",
    "handle = Entrez.efetch( db=\"nucleotide\", rettype=\"gb\", retmode=\"text\", id = text)\n",
    "print(handle.url)\n",
    "records = SeqIO.parse(\"sequence.gb\", \"genbank\") \n",
    "count = SeqIO.write(records, \"sequence.fasta\", \"fasta\") \n",
    "\n",
    "clustalw_exe = r\"C:\\Program Files (x86)\\ClustalW2\\clustalw2.exe\"\n",
    "clustalw_cline = ClustalwCommandline(clustalw_exe, infile = \"sequence.fasta\")\n",
    "assert os.path.isfile(clustalw_exe), \"Clustal_W executable is missing or not found\"\n",
    "stdout, stderr = clustalw_cline()\n",
    "print(clustalw_cline)\n",
    "\n",
    "ClustalAlign = AlignIO.read(\"sequence.aln\", \"clustal\")\n",
    "\n",
    "with open(\"sequence.aln\",\"r\") as aln: \n",
    "    alignment = AlignIO.read(aln,\"clustal\")\n",
    "    \n",
    "calculator = DistanceCalculator('identity')\n",
    "distance_matrix = calculator.get_distance(alignment)\n",
    "\n",
    "constructor = DistanceTreeConstructor(calculator)\n",
    "rag2_tree = constructor.build_tree(alignment)\n",
    "rag2_tree.rooted = True\n",
    "fig = Phylo.draw(rag2_tree)\n",
    "\n",
    "fig.figsave('arbolfg.pdf')"
   ]
  },
  {
   "cell_type": "code",
   "execution_count": null,
   "id": "ccd892f5",
   "metadata": {},
   "outputs": [],
   "source": []
  }
 ],
 "metadata": {
  "kernelspec": {
   "display_name": "Python 3 (ipykernel)",
   "language": "python",
   "name": "python3"
  },
  "language_info": {
   "codemirror_mode": {
    "name": "ipython",
    "version": 3
   },
   "file_extension": ".py",
   "mimetype": "text/x-python",
   "name": "python",
   "nbconvert_exporter": "python",
   "pygments_lexer": "ipython3",
   "version": "3.9.7"
  }
 },
 "nbformat": 4,
 "nbformat_minor": 5
}
